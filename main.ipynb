{
 "cells": [
  {
   "cell_type": "markdown",
   "metadata": {},
   "source": [
    "# Rose Hack 2019 Acceptance Processor\n",
    "\n",
    "This notebook is used to process the registration data.\n",
    "\n",
    "1. Accept UCR folks\n",
    "2. Accept folks coming from Riverside\n",
    "3. Accept folks coming from locations based on their distance"
   ]
  },
  {
   "cell_type": "code",
   "execution_count": 148,
   "metadata": {},
   "outputs": [],
   "source": [
    "import pandas as pd"
   ]
  },
  {
   "cell_type": "code",
   "execution_count": 149,
   "metadata": {},
   "outputs": [],
   "source": [
    "data = pd.read_csv('./registration-12-23-18-20-48.csv')"
   ]
  },
  {
   "cell_type": "code",
   "execution_count": 151,
   "metadata": {},
   "outputs": [],
   "source": [
    "columns_to_keep = [\n",
    "    \"What's your first name?\",\n",
    "    \"Hi {{answer_97549884}}, what's your <strong>last name</strong>?\",\n",
    "    \"What's your <strong>student email (.edu)</strong>?\",\n",
    "    \"What's your phone number?\",\n",
    "    \"What are your preferred pronouns?\",\n",
    "    \"Birthdate\",\n",
    "    \"Current Education\",\n",
    "    \"School Name\",\n",
    "    \"School Name (Please use the full spelling)\",\n",
    "    \"High School Name\",\n",
    "    \"What's the name of your University?\",\n",
    "    \"Vegan\",\n",
    "    \"Vegetarian\",\n",
    "    \"Gluten-Free\",\n",
    "    \"Other.4\",\n",
    "    \"Shirt Size (Unisex sizing)\",\n",
    "    \"Other.5\",\n",
    "    \"What would you like to build/learn at Rose Hack?\",\n",
    "    \"Where will you be traveling from? (City, State)\",\n",
    "]"
   ]
  },
  {
   "cell_type": "code",
   "execution_count": 152,
   "metadata": {},
   "outputs": [],
   "source": [
    "clean_data = data[columns_to_keep]"
   ]
  },
  {
   "cell_type": "code",
   "execution_count": 153,
   "metadata": {},
   "outputs": [
    {
     "name": "stdout",
     "output_type": "stream",
     "text": [
      "<class 'pandas.core.frame.DataFrame'>\n",
      "RangeIndex: 487 entries, 0 to 486\n",
      "Data columns (total 19 columns):\n",
      "What's your first name?                                            487 non-null object\n",
      "Hi {{answer_97549884}}, what's your <strong>last name</strong>?    487 non-null object\n",
      "What's your <strong>student email (.edu)</strong>?                 487 non-null object\n",
      "What's your phone number?                                          429 non-null object\n",
      "What are your preferred pronouns?                                  481 non-null object\n",
      "Birthdate                                                          487 non-null object\n",
      "Current Education                                                  487 non-null object\n",
      "School Name                                                        392 non-null object\n",
      "School Name (Please use the full spelling)                         56 non-null object\n",
      "High School Name                                                   29 non-null object\n",
      "What's the name of your University?                                79 non-null object\n",
      "Vegan                                                              12 non-null object\n",
      "Vegetarian                                                         67 non-null object\n",
      "Gluten-Free                                                        7 non-null object\n",
      "Other.4                                                            22 non-null object\n",
      "Shirt Size (Unisex sizing)                                         485 non-null object\n",
      "Other.5                                                            2 non-null object\n",
      "What would you like to build/learn at Rose Hack?                   412 non-null object\n",
      "Where will you be traveling from? (City, State)                    486 non-null object\n",
      "dtypes: object(19)\n",
      "memory usage: 72.4+ KB\n"
     ]
    }
   ],
   "source": [
    "clean_data.info()"
   ]
  },
  {
   "cell_type": "markdown",
   "metadata": {},
   "source": [
    "# Accepting People\n",
    "\n",
    "1. UCR folks\n",
    "2. Folks sorted by distance"
   ]
  },
  {
   "cell_type": "code",
   "execution_count": 154,
   "metadata": {},
   "outputs": [],
   "source": [
    "accepted_folks = pd.DataFrame()"
   ]
  },
  {
   "cell_type": "markdown",
   "metadata": {},
   "source": [
    "We are accepting folks that go to a university who's name contains 'iverside'. This assumption is made to catch folks who go to UCR or RCC"
   ]
  },
  {
   "cell_type": "code",
   "execution_count": 155,
   "metadata": {},
   "outputs": [],
   "source": [
    "ucr_university = clean_data[clean_data['School Name'].str.contains('iverside', na=False)]"
   ]
  },
  {
   "cell_type": "code",
   "execution_count": 156,
   "metadata": {},
   "outputs": [],
   "source": [
    "ucr_university_2 = clean_data[clean_data['School Name (Please use the full spelling)'].str.contains('iverside', na=False)]"
   ]
  },
  {
   "cell_type": "code",
   "execution_count": 157,
   "metadata": {},
   "outputs": [],
   "source": [
    "accepted_folks = pd.concat([ucr_university, ucr_university_2])"
   ]
  },
  {
   "cell_type": "markdown",
   "metadata": {},
   "source": [
    "Let's validate our assumption"
   ]
  },
  {
   "cell_type": "code",
   "execution_count": 158,
   "metadata": {},
   "outputs": [
    {
     "data": {
      "text/plain": [
       "array(['University of California, Riverside', 'Riverside City College',\n",
       "       nan], dtype=object)"
      ]
     },
     "execution_count": 158,
     "metadata": {},
     "output_type": "execute_result"
    }
   ],
   "source": [
    "accepted_folks['School Name'].unique()"
   ]
  },
  {
   "cell_type": "code",
   "execution_count": 159,
   "metadata": {},
   "outputs": [
    {
     "data": {
      "text/plain": [
       "array([nan, 'University of California, Riverside',\n",
       "       'University of California Riverside', 'UC- Riverside',\n",
       "       'UC Riverside', 'UC Riverside ',\n",
       "       'University Of California, Riverside',\n",
       "       'University Of California Riverside'], dtype=object)"
      ]
     },
     "execution_count": 159,
     "metadata": {},
     "output_type": "execute_result"
    }
   ],
   "source": [
    "accepted_folks['School Name (Please use the full spelling)'].unique()"
   ]
  },
  {
   "cell_type": "markdown",
   "metadata": {},
   "source": [
    "We also want to accept folks who are coming from Riverside.\n",
    "\n",
    "Let's get a list of folks excluding out already accepted folks. We get this list by doing an outer join (grab rows that are not in both the accepted list and the all list)"
   ]
  },
  {
   "cell_type": "code",
   "execution_count": 164,
   "metadata": {},
   "outputs": [],
   "source": [
    "diff = accepted_folks.merge(clean_data, indicator=True, how='outer')[everyone_else['_merge'] == 'right_only']"
   ]
  },
  {
   "cell_type": "code",
   "execution_count": 165,
   "metadata": {},
   "outputs": [],
   "source": [
    "riveride_folks = diff[diff['Where will you be traveling from? (City, State)'].str.contains('iverside')]"
   ]
  },
  {
   "cell_type": "code",
   "execution_count": 172,
   "metadata": {},
   "outputs": [
    {
     "name": "stdout",
     "output_type": "stream",
     "text": [
      "(7, 20)\n",
      "(160, 19)\n"
     ]
    }
   ],
   "source": [
    "print(riveride_folks.shape)\n",
    "print(accepted_folks.shape)"
   ]
  },
  {
   "cell_type": "code",
   "execution_count": 171,
   "metadata": {},
   "outputs": [],
   "source": [
    "accepted_folks = pd.concat([accepted_folks, riveride_folks], sort=True).drop(['_merge'], axis=1)"
   ]
  },
  {
   "cell_type": "markdown",
   "metadata": {},
   "source": [
    "## Calculate their travel distance using a geocoder"
   ]
  },
  {
   "cell_type": "code",
   "execution_count": 73,
   "metadata": {},
   "outputs": [],
   "source": [
    "import requests as re"
   ]
  },
  {
   "cell_type": "code",
   "execution_count": 78,
   "metadata": {},
   "outputs": [],
   "source": [
    "API_KEY = ''\n",
    "GEOCODER_API = 'http://www.mapquestapi.com/geocoding/v1/address?key={}&location='.format(API_KEY)"
   ]
  },
  {
   "cell_type": "code",
   "execution_count": 197,
   "metadata": {},
   "outputs": [],
   "source": [
    "def geocoder(location):\n",
    "    request_url = '{}{}'.format(GEOCODER_API, location)\n",
    "    response = re.get(request_url).json()['results'][0]['locations'][0]['latLng']\n",
    "    \n",
    "    latitude = response['lat']\n",
    "    longitude = response['lng']\n",
    "    \n",
    "    return latitude, longitude"
   ]
  },
  {
   "cell_type": "markdown",
   "metadata": {},
   "source": [
    "We now want a list of folks who have not been accepted yet"
   ]
  },
  {
   "cell_type": "code",
   "execution_count": 173,
   "metadata": {},
   "outputs": [],
   "source": [
    "everyone_else = accepted_folks.merge(clean_data, indicator=True, how='outer')"
   ]
  },
  {
   "cell_type": "code",
   "execution_count": 175,
   "metadata": {},
   "outputs": [
    {
     "data": {
      "text/plain": [
       "(160, 19)"
      ]
     },
     "execution_count": 175,
     "metadata": {},
     "output_type": "execute_result"
    }
   ],
   "source": [
    "accepted_folks.shape"
   ]
  },
  {
   "cell_type": "code",
   "execution_count": 181,
   "metadata": {},
   "outputs": [],
   "source": [
    "everyone_else = everyone_else[everyone_else['_merge'] == 'right_only'].drop('_merge', axis=1)"
   ]
  },
  {
   "cell_type": "code",
   "execution_count": 184,
   "metadata": {},
   "outputs": [],
   "source": [
    "# check this dict to see if we have the lat long before doing another lookup\n",
    "# We want to check if we have the info to avoid making an unneeded request\n",
    "location_cache = {}"
   ]
  },
  {
   "cell_type": "code",
   "execution_count": 208,
   "metadata": {},
   "outputs": [],
   "source": [
    "lat_lngs = []"
   ]
  },
  {
   "cell_type": "code",
   "execution_count": 209,
   "metadata": {},
   "outputs": [],
   "source": [
    "num_lookups = 0\n",
    "\n",
    "for index, row in everyone_else.iterrows():\n",
    "    location = row['Where will you be traveling from? (City, State)'].replace(' ', '')\n",
    "    \n",
    "    if location not in location_cache:\n",
    "        lat, lng = geocoder(location)\n",
    "        num_lookups += 1\n",
    "        \n",
    "        location_cache[location] = (lat, lng)\n",
    "    \n",
    "    lat_lngs.append(location_cache[location])"
   ]
  },
  {
   "cell_type": "code",
   "execution_count": 213,
   "metadata": {},
   "outputs": [],
   "source": [
    "everyone_else['lat-lng'] = lat_lngs"
   ]
  },
  {
   "cell_type": "markdown",
   "metadata": {},
   "source": [
    "We next need to calculate the distance from Riverside to the location of the person"
   ]
  },
  {
   "cell_type": "code",
   "execution_count": 215,
   "metadata": {},
   "outputs": [],
   "source": [
    "UCR_LAT_LONG = (33.973625, -117.328773)"
   ]
  },
  {
   "cell_type": "code",
   "execution_count": 216,
   "metadata": {},
   "outputs": [],
   "source": [
    "distances = []"
   ]
  }
 ],
 "metadata": {
  "kernelspec": {
   "display_name": "Python 3",
   "language": "python",
   "name": "python3"
  },
  "language_info": {
   "codemirror_mode": {
    "name": "ipython",
    "version": 3
   },
   "file_extension": ".py",
   "mimetype": "text/x-python",
   "name": "python",
   "nbconvert_exporter": "python",
   "pygments_lexer": "ipython3",
   "version": "3.6.5"
  }
 },
 "nbformat": 4,
 "nbformat_minor": 2
}
